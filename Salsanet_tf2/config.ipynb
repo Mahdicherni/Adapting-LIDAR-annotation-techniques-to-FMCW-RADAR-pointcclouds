{
 "cells": [
  {
   "cell_type": "code",
   "execution_count": 2,
   "id": "4d3da162-a85e-44e0-8115-dd4f48526030",
   "metadata": {},
   "outputs": [],
   "source": [
    "import numpy as np\n",
    "from easydict import EasyDict as edict\n",
    " \n",
    "def lidar_config():\n",
    "\n",
    "  cfg = edict()\n",
    "\n",
    "  # classes\n",
    "  cfg.CLASSES = [\n",
    "      'background',\n",
    "      'pedestrian',\n",
    "      'vehicle']\n",
    "\n",
    "  cfg.NUM_CLASS = len(cfg.CLASSES)    # number of classes\n",
    "  cfg.CLS_2_ID = dict(zip(cfg.CLASSES, range(len(cfg.CLASSES))))      # dict from class name to id\n",
    "\n",
    "  # rgb color for each class\n",
    "  cfg.CLS_COLOR_MAP = np.array(\n",
    "      [[ 255.00,  255.00,  255.00],\n",
    "       [ 0.00,  255.00, 0.00],\n",
    "       [ 255.00, 0.00, 0.00]])\n",
    "\n",
    "  cfg.CLS_LOSS_WEIGHTS = np.array([1.01,  6.03, 15.78]) # smooth_freq weight values\n",
    "\n",
    "  cfg.GPU = 0                    # gpu id\n",
    "  cfg.DROPOUT_PROB = 0.5         # Probability to keep a node in dropout\n",
    "  cfg.NUM_EPOCHS = 60           # epoch number\n",
    "  cfg.BATCH_SIZE = 1           # batch size\n",
    "  cfg.LEARNING_RATE = 0.01       # learning rate\n",
    "  cfg.LR_DECAY_FACTOR = 0.1      # multiply the learning rate by this factor\n",
    "  cfg.LR_DECAY_CYCLE = 20000     # step time to decrease the learning rate\n",
    "  cfg.PRINT_EVERY = 20           # print in every 20 epochs\n",
    "  cfg.DEBUG_MODE = False         # print log to console in debug mode\n",
    "  cfg.DATA_AUGMENTATION = True   # Whether to do data augmentation\n",
    "  cfg.CHANNEL_LABELS = [ 'mean',  'max', 'ref',  'den','c_velocity']   #channel names\n",
    "  cfg.IMAGE_WIDTH = 256          # image width\n",
    "  cfg.IMAGE_HEIGHT = 64          # image height\n",
    "  cfg.IMAGE_CHANNEL = len(cfg.CHANNEL_LABELS) # image channel\n",
    "\n",
    "  # paths\n",
    "  cfg.training_data_path = \"D:/salsaNet_bev/salsaNet_bev/salsaNet_bev_train\"\n",
    "  cfg.validation_data_path = \"D:/salsaNet_bev/salsaNet_bev/salsaNet_bev_val\"\n",
    "  cfg.log_path = \"D:/salsaNet_bev/log\"\n",
    "  cfg.log_name = \"\"   # additional descriptive tag name to the log file if needed\n",
    "\n",
    "  return cfg\n"
   ]
  },
  {
   "cell_type": "code",
   "execution_count": null,
   "id": "6affe83c-6518-4256-bdfd-b556cd0d7629",
   "metadata": {},
   "outputs": [],
   "source": []
  }
 ],
 "metadata": {
  "kernelspec": {
   "display_name": "Python 3 (ipykernel)",
   "language": "python",
   "name": "python3"
  },
  "language_info": {
   "codemirror_mode": {
    "name": "ipython",
    "version": 3
   },
   "file_extension": ".py",
   "mimetype": "text/x-python",
   "name": "python",
   "nbconvert_exporter": "python",
   "pygments_lexer": "ipython3",
   "version": "3.9.19"
  }
 },
 "nbformat": 4,
 "nbformat_minor": 5
}
