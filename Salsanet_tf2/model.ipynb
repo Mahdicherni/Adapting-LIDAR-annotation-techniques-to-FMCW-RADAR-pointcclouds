{
 "cells": [
  {
   "cell_type": "code",
   "execution_count": 1,
   "id": "607f5902-6969-4482-8468-9e514057eae8",
   "metadata": {},
   "outputs": [
    {
     "name": "stdout",
     "output_type": "stream",
     "text": [
      "INFO:tensorflow:Mixed precision compatibility check (mixed_float16): OK\n",
      "Your GPU will likely run quickly with dtype policy mixed_float16 as it has compute capability of at least 7.0. Your GPU: NVIDIA GeForce RTX 3050 Laptop GPU, compute capability 8.6\n",
      "no error\n"
     ]
    }
   ],
   "source": [
    "import tensorflow as tf\n",
    "from tensorflow.keras.layers import Conv2D, Conv2DTranspose, Dropout, BatchNormalization, MaxPooling2D\n",
    "from tensorflow.keras import mixed_precision\n",
    "\n",
    "mixed_precision.set_global_policy('mixed_float16')\n",
    "def resBlock(input_layer, filter_nbr, dropout_rate, kernel_size=(3, 3), stride=1, layer_name=\"rb\", training=True,\n",
    "             pooling=True, repetition=1):\n",
    "    shortcut = Conv2D(filter_nbr, (1, 1), strides=stride, activation=tf.nn.leaky_relu, name=layer_name + '_s_0')(input_layer)\n",
    "\n",
    "    resA = Conv2D(filter_nbr, kernel_size, padding='same', activation=tf.nn.leaky_relu, name=layer_name + '_conv1')(input_layer)\n",
    "    resA = BatchNormalization()(resA)\n",
    "    resA = Conv2D(filter_nbr, kernel_size, padding='same', activation=tf.nn.leaky_relu, name=layer_name + '_conv2')(resA)\n",
    "    resA = BatchNormalization()(resA)\n",
    "\n",
    "    resA = tf.add(resA, shortcut)\n",
    "\n",
    "    if pooling:\n",
    "        resB = Dropout(dropout_rate, name=\"dropout\")(resA)\n",
    "        resB = MaxPooling2D((2, 2), padding='same')(resB)\n",
    "        return resB, resA\n",
    "    else:\n",
    "        resB = Dropout(dropout_rate, name=\"dropout\")(resA)\n",
    "        return resB\n",
    "\n",
    "def upBlock(input_layer, skip_layer, filter_nbr, dropout_rate, kernel_size=(3, 3), layer_name=\"dec\", training=True):\n",
    "    upA = Conv2DTranspose(filter_nbr, kernel_size, strides=2, padding='same', activation=tf.nn.leaky_relu, name=layer_name + \"_up_tconv\")(input_layer)\n",
    "    upA = Dropout(dropout_rate, name=\"dropout\")(upA)\n",
    "\n",
    "    upB = tf.add(upA, skip_layer, name=\"add\")\n",
    "    upB = Dropout(dropout_rate, name=\"dropout_add\")(upB)\n",
    "\n",
    "    upE = Conv2D(filter_nbr, kernel_size, padding='same', activation=tf.nn.leaky_relu, name=layer_name + \"_conv1\")(upB)\n",
    "    upE = BatchNormalization()(upE)\n",
    "    upE = Conv2D(filter_nbr, kernel_size, padding='same', activation=tf.nn.leaky_relu, name=layer_name + \"_conv2\")(upE)\n",
    "    upE = BatchNormalization()(upE)\n",
    "    upE = Conv2D(filter_nbr, kernel_size, padding='same', activation=tf.nn.leaky_relu, name=layer_name + \"_conv3\")(upE)\n",
    "    upE = BatchNormalization()(upE)\n",
    "    upE = Dropout(dropout_rate, name=\"dropout_conv\")(upE)\n",
    "\n",
    "    return upE\n",
    "\n",
    "def create_SalsaNet(input_img, num_classes=3, dropout_rate=0.5, is_training=False, kernel_number=32):\n",
    "    print (\"--------------- SalsaNet model --------------------\")\n",
    "    print(\"input\", input_img.shape)\n",
    "\n",
    "    down0c, down0b = resBlock(input_img, filter_nbr=kernel_number, dropout_rate=dropout_rate, kernel_size=3, stride=1, layer_name=\"res0\", training=is_training, repetition=1)\n",
    "    down1c, down1b = resBlock(down0c, filter_nbr=2 * kernel_number, dropout_rate=dropout_rate, kernel_size=3, stride=1, layer_name=\"res1\", training=is_training, repetition=1)\n",
    "    down2c, down2b = resBlock(down1c, filter_nbr=4 * kernel_number, dropout_rate=dropout_rate, kernel_size=3, stride=1, layer_name=\"res2\", training=is_training, repetition=1)\n",
    "    down3c, down3b = resBlock(down2c, filter_nbr=8 * kernel_number, dropout_rate=dropout_rate, kernel_size=3, stride=1, layer_name=\"res3\", training=is_training, repetition=1)\n",
    "    down4b = resBlock(down3c, filter_nbr=8 * kernel_number, dropout_rate=dropout_rate, kernel_size=3, stride=1, layer_name=\"res4\", training=is_training, pooling=False, repetition=1)\n",
    "\n",
    "    up3e = upBlock(down4b, down3b,  filter_nbr=8 * kernel_number, dropout_rate=dropout_rate, kernel_size=(3, 3), layer_name=\"up3\", training=is_training)\n",
    "    up2e = upBlock(up3e, down2b,  filter_nbr=4 * kernel_number, dropout_rate=dropout_rate, kernel_size=(3, 3), layer_name=\"up2\", training=is_training)\n",
    "    up1e = upBlock(up2e, down1b,  filter_nbr=2 * kernel_number, dropout_rate=dropout_rate, kernel_size=(3, 3), layer_name=\"up1\", training=is_training)\n",
    "    up0e = upBlock(up1e, down0b,  filter_nbr= kernel_number, dropout_rate=dropout_rate, kernel_size=(3, 3), layer_name=\"up0\", training=is_training)\n",
    "\n",
    "    logits = Conv2D(num_classes, (1, 1), activation=None, name='logits')(up0e)\n",
    "    print(\"logits\", logits.shape)\n",
    "\n",
    "    return logits\n",
    "    print (\"--------------------------------------------------\")\n",
    "print('no error')"
   ]
  },
  {
   "cell_type": "code",
   "execution_count": null,
   "id": "24764492-f680-4f67-aabe-550f6d759f38",
   "metadata": {},
   "outputs": [],
   "source": []
  }
 ],
 "metadata": {
  "kernelspec": {
   "display_name": "Python 3 (ipykernel)",
   "language": "python",
   "name": "python3"
  },
  "language_info": {
   "codemirror_mode": {
    "name": "ipython",
    "version": 3
   },
   "file_extension": ".py",
   "mimetype": "text/x-python",
   "name": "python",
   "nbconvert_exporter": "python",
   "pygments_lexer": "ipython3",
   "version": "3.9.19"
  }
 },
 "nbformat": 4,
 "nbformat_minor": 5
}
